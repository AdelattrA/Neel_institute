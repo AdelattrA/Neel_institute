{
    "cells": [
        {
            "cell_type": "markdown",
            "source": [
                "# 28/07/20221 : Experience n°1\r\n",
                "\r\n",
                "\r\n",
                "## Plan d'experience :\r\n",
                "* Mesure des paramètres de l'experience (masse de la particule, raideur des ressorts)\r\n",
                "* Determination des paramètres de la corde pour autoriser la résonnance\r\n",
                "* Test mise en transparence\r\n",
                "* Mesure du coefficient de transmission : balayage en fréquence \r\n"
            ],
            "metadata": {}
        },
        {
            "cell_type": "code",
            "execution_count": 2,
            "source": [
                "import numpy as np\r\n",
                "from matplotlib import pyplot as plt"
            ],
            "outputs": [],
            "metadata": {}
        },
        {
            "cell_type": "markdown",
            "source": [
                "### Mesure des paramètres de l'experience (masse de la particule, raideur des ressorts)\r\n"
            ],
            "metadata": {}
        },
        {
            "cell_type": "code",
            "execution_count": 3,
            "source": [
                "# Masse de la particule \r\n",
                "m_0 = 31.7 #[g]\r\n",
                "# Raideur du ressort\r\n",
                "m_test = 176.5 #[g]\r\n",
                "dx  = 8.2-7.9 #[cm]\r\n",
                "g = 9.81\r\n",
                "K_1 = K_2 = (m_test / 1000 * g )/(dx/100)\r\n",
                "K_tot = K_1 + K_2 # Ressorts en série\r\n",
                "print(\"Constante de raideur totale : \", K_tot, \" N/m\")\r\n",
                "\r\n",
                "# Frequence de la particule (systeme masse-ressort)\r\n",
                "w_0 = np.sqrt(K_tot / (m_0/1000))\r\n",
                "f_0 = w_0 / (2*np.pi)\r\n",
                "print(\"Frequence de la particule : f_0 = \", f_0, \" Hz\")\r\n"
            ],
            "outputs": [
                {
                    "output_type": "stream",
                    "name": "stdout",
                    "text": [
                        "Constante de raideur totale :  1154.3100000000043  N/m\n",
                        "Frequence de la particule : f_0 =  30.370485149551747  Hz\n"
                    ]
                }
            ],
            "metadata": {}
        },
        {
            "cell_type": "markdown",
            "source": [
                "### Determination des paramètres de la corde pour autoriser la résonnance"
            ],
            "metadata": {}
        },
        {
            "cell_type": "code",
            "execution_count": 4,
            "source": [
                "# Masse linéique de la corde\r\n",
                "rho = (2.7/1000)/(21/100)\r\n",
                "L = 141 #[cm]\r\n",
                "\r\n",
                "print(\"Masse linéique de la corde : rho = \", rho, \"kg/m\")\r\n",
                "\r\n",
                "# Evaluation de la fréquence propre de la corde\r\n",
                "f1 = 22.1 #[Hz]\r\n",
                "f2 = 44.8 #[Hz]\r\n",
                "f3 = 66.5 #[Hz]\r\n",
                "\r\n",
                "f2 = f2/2 # 2nd mode\r\n",
                "f3=f3/3 # 3e mode\r\n",
                "\r\n",
                "list_f = [f1,f2,f3]\r\n",
                "f_moy = np.mean(list_f)\r\n",
                "f_sigma = np.std(list_f)\r\n",
                "\r\n",
                "c = 2*(L/100)*f_moy\r\n",
                "\r\n",
                "print(\"Frequence propre de la corde : f_moy = \", np.round(f_moy, 2), \" +/-\", np.round(f_sigma,2), \" Hz\")\r\n",
                "print(\"Celerité de l'onde : c = \", np.round(c, 2), \"m/s\")\r\n",
                "\r\n",
                "# Ajustement de la longueur pour avoir f_moy = f_0\r\n",
                "L_ajust_theo = c/(f_0)\r\n",
                "print(\"Longueur ajustée : L_ajust_theo = \", L_ajust_theo, \" m\")\r\n",
                "\r\n",
                "L_adjust_expe = 191 #[cm] Longueur maximale compte tenu du banc optique à disposition\r\n",
                "f_2 = c/(L_adjust_expe/100)\r\n",
                "\r\n",
                "print(\"Frequence de résonnance expérimentale (2nd mode): f_2 = \", np.round(f_2,2), \" Hz\")\r\n",
                "print(\"Erreur expérimentale : sigma = \", f_0/f_2)\r\n",
                "\r\n",
                "# Tension dans la corde\r\n",
                "T = rho*c**2\r\n",
                "print(\"Tension dans la corde : T = \", round(T,2), \" N\")\r\n"
            ],
            "outputs": [
                {
                    "output_type": "stream",
                    "name": "stdout",
                    "text": [
                        "Masse linéique de la corde : rho =  0.012857142857142859 kg/m\n",
                        "Frequence propre de la corde : f_moy =  22.22  +/- 0.13  Hz\n",
                        "Celerité de l'onde : c =  62.67 m/s\n",
                        "Longueur ajustée : L_ajust_theo =  2.063406835882949  m\n",
                        "Frequence de résonnance expérimentale (2nd mode): f_2 =  32.81  Hz\n",
                        "Erreur expérimentale : sigma =  0.9256536165262313\n",
                        "Tension dans la corde : T =  50.49  N\n"
                    ]
                }
            ],
            "metadata": {}
        },
        {
            "cell_type": "markdown",
            "source": [
                "### Test mise en transparence \r\n",
                " \r\n",
                " Remarque : Test avorté étant donné la difficulté d'imposer une fréquence de résonnance identique pour la corde et pour le système masse ressort.\r\n",
                " La fréquence doit être, à des incertitudes très faibles pret, la meme pour les deux système, sans quoi le phénomène n'est hélas pas observable. A upgrade en cas d'amélioration du dispositif expérimental."
            ],
            "metadata": {}
        },
        {
            "cell_type": "markdown",
            "source": [
                "### Mesure du coefficient de transmission : balayage en fréquence\r\n",
                "\r\n",
                "Remarque : On impose une fréquence d'excitation de la corde proche de la fréquence de résonnance du système masse ressort "
            ],
            "metadata": {}
        },
        {
            "cell_type": "code",
            "execution_count": 5,
            "source": [
                "#Rappel des constantes importantes\r\n",
                "#Distance source-masse :\r\n",
                "d_0 = 1.33 #[m]\r\n",
                "print(\"Fréquence de la particule : f_0 = \", f_0, \" Hz\")\r\n",
                "print(\"Distance source-masse : d_0 = \", d_0/100, \" m\")\r\n",
                "\r\n",
                "#Mesure de l'intervalle temporelle entre les 2 fronts d'onde (donnée a 20Hz)\r\n",
                "t_0 = 48.6 #[ms]\r\n",
                "t_1 = 53.1 #[ms]\r\n",
                "\r\n",
                "dt = t_1-t_0\r\n",
                "\r\n",
                "print(\"Intervalle temporel : dt = \", dt/1000, \" s\")\r\n",
                "\r\n",
                "#Calcul de la célérité de l'onde\r\n",
                "\r\n",
                "c_exp = (d_0)/(dt/1000)\r\n",
                "\r\n",
                "print(\"Célérité de l'onde : c_exp = \", c_exp, \" m/s\")\r\n",
                "\r\n",
                "# Intervalle temporel Transitoire \r\n",
                "\r\n",
                "L_corde = L_adjust_expe/100 #longueur expérimentale de la corde [m]\r\n",
                "\r\n",
                "\r\n",
                "d_1 = 1.2*L_corde #Distance transitoire \r\n",
                "print(\"Distance transitoire : d_1 = \", d_1, \" m\")\r\n",
                "\r\n",
                "t_transit = d_1 / c\r\n",
                "\r\n",
                "print(\"Temps transitoire : t_transit = \", t_transit*1000, \" ms\")\r\n",
                "\r\n"
            ],
            "outputs": [
                {
                    "output_type": "stream",
                    "name": "stdout",
                    "text": [
                        "Fréquence de la particule : f_0 =  30.370485149551747  Hz\n",
                        "Distance source-masse : d_0 =  0.013300000000000001  m\n",
                        "Intervalle temporel : dt =  0.0045  s\n",
                        "Célérité de l'onde : c_exp =  295.5555555555556  m/s\n",
                        "Distance transitoire : d_1 =  2.292  m\n",
                        "Temps transitoire : t_transit =  36.57446808510638  ms\n"
                    ]
                }
            ],
            "metadata": {}
        },
        {
            "cell_type": "markdown",
            "source": [
                "#### Mesures expérimentales"
            ],
            "metadata": {}
        },
        {
            "cell_type": "markdown",
            "source": [
                "L 'ensemble des données expérimentales est dans le fichier données_brutes_balayage, à utiliser dans le fichier example-transmission-2 du dossier quantum-string-master. Le programme de Leo a été légèrement modifié pour ne calculer que la courbe théorique du coeff de transmission a partir des données expérimentales acquises ainsi que résumées dans ce fichier.\r\n",
                "\r\n",
                "La courbe théorique/expérimentale est en sortie du programme example-transmission-2, une fois que l'ensemble des données expérimentales acquises a été entré en input du programme (bien suivre les instructions dans le terminal, un peu laborieux mais facile à upgrade)"
            ],
            "metadata": {}
        }
    ],
    "metadata": {
        "orig_nbformat": 4,
        "language_info": {
            "name": "python",
            "version": "3.9.6",
            "mimetype": "text/x-python",
            "codemirror_mode": {
                "name": "ipython",
                "version": 3
            },
            "pygments_lexer": "ipython3",
            "nbconvert_exporter": "python",
            "file_extension": ".py"
        },
        "kernelspec": {
            "name": "python3",
            "display_name": "Python 3.9.6 64-bit"
        },
        "interpreter": {
            "hash": "68d943880b83fd32917fd6ce035fc054740c8c1c62e0f6e4e4640afae657d93f"
        }
    },
    "nbformat": 4,
    "nbformat_minor": 2
}